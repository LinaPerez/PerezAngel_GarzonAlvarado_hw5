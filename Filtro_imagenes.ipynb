{
 "metadata": {
  "name": "",
  "signature": "sha256:dfb25ae0f8afe034165cb88255882eba81e39e1783338c7228c99766ca749188"
 },
 "nbformat": 3,
 "nbformat_minor": 0,
 "worksheets": [
  {
   "cells": [
    {
     "cell_type": "code",
     "collapsed": false,
     "input": [
      "%pylab inline\n",
      "import matplotlib.pyplot as plt\n",
      "from scipy.fftpack import fft, fftfreq\n",
      "import Image\n",
      "import ImageOps"
     ],
     "language": "python",
     "metadata": {},
     "outputs": [
      {
       "output_type": "stream",
       "stream": "stdout",
       "text": [
        "Populating the interactive namespace from numpy and matplotlib\n"
       ]
      }
     ],
     "prompt_number": 1
    },
    {
     "cell_type": "code",
     "collapsed": false,
     "input": [
      "full_moon = plt.imread('photos/full_moon.jpg')\n",
      "popc_cho = pylab.imread(\"photos/20_popc_cho009-1.tif\")\n",
      "colesterol = pylab.imread(\"photos/colesterol-1.tif\")\n",
      "ves_Full = pylab.imread(\"photos/ves_full_150_002-1.tif\")"
     ],
     "language": "python",
     "metadata": {},
     "outputs": [],
     "prompt_number": 2
    },
    {
     "cell_type": "code",
     "collapsed": false,
     "input": [
      "fig = figure(1, figsize=(10.5,8.5))\n",
      "imshow(full_moon[:,:], cmap = cm.Greys_r)"
     ],
     "language": "python",
     "metadata": {},
     "outputs": [
      {
       "metadata": {},
       "output_type": "display_data",
       "text": [
        "<matplotlib.figure.Figure at 0x330c910>"
       ]
      }
     ],
     "prompt_number": 3
    },
    {
     "cell_type": "code",
     "collapsed": false,
     "input": [
      "popc_cho = pylab.imread(\"photos/20_popc_cho009-1.tif\")\n",
      "fig = figure(1, figsize=(10.5,8.5))\n",
      "imshow(popc_cho[:,:], cmap = cm.Greys_r)\n",
      " "
     ],
     "language": "python",
     "metadata": {},
     "outputs": [],
     "prompt_number": 4
    },
    {
     "cell_type": "code",
     "collapsed": false,
     "input": [
      "colesterol = pylab.imread(\"photos/colesterol-1.tif\")\n",
      "fig = figure(1, figsize=(10.5,8.5))\n",
      "imshow(colesterol[:,:], cmap = cm.Greys_r)"
     ],
     "language": "python",
     "metadata": {},
     "outputs": [],
     "prompt_number": 5
    },
    {
     "cell_type": "code",
     "collapsed": false,
     "input": [
      "ves_Full = pylab.imread(\"photos/ves_full_150_002-1.tif\")\n",
      "fig = figure(1, figsize=(10.5,8.5))\n",
      "imshow(ves_Full[:,:], cmap = cm.Greys_r)"
     ],
     "language": "python",
     "metadata": {},
     "outputs": [],
     "prompt_number": 6
    },
    {
     "cell_type": "markdown",
     "metadata": {},
     "source": [
      "En este punto es necesario que todas las matrices sean de medidas de m\u00faltiplos de 2 por lo cual la imagen debe tener filas y columnas de pixeles pares. En la imagen 'colesterol-1.tif' no se cumple esta condici\u00f3n por lo cual se debe a\u00f1adir un borde que permita que se cumpla esta condicion. El siguiente m\u00e9todo a\u00f1ade un borde a la imagen 'colesterol-1.tif' :"
     ]
    },
    {
     "cell_type": "code",
     "collapsed": false,
     "input": [
      "x = Image.open('photos/colesterol-1.tif')\n",
      "y = ImageOps.expand(x,border=(1,1,2,1),fill='black')\n",
      "y.save('photos/colesterol-1-ok.tif')\n",
      "colesterol_ok = pylab.imread(\"photos/colesterol-1-ok.tif\")\n",
      "fig = figure(1, figsize=(10.5,8.5))\n",
      "imshow(colesterol_ok[:,:], cmap = cm.Greys_r)"
     ],
     "language": "python",
     "metadata": {},
     "outputs": [],
     "prompt_number": 7
    },
    {
     "cell_type": "heading",
     "level": 1,
     "metadata": {},
     "source": [
      "Transformada de fourierrrrrrrr "
     ]
    },
    {
     "cell_type": "code",
     "collapsed": false,
     "input": [
      "T_popc_cho = fft2(popc_cho)\n",
      "print np.shape(T_popc_cho)"
     ],
     "language": "python",
     "metadata": {},
     "outputs": [],
     "prompt_number": 8
    },
    {
     "cell_type": "code",
     "collapsed": false,
     "input": [
      "matrizA = [[5,8,1,2],[6,7,3,0],[4,5,9,1],[6,7,3,0]]"
     ],
     "language": "python",
     "metadata": {},
     "outputs": [],
     "prompt_number": 9
    },
    {
     "cell_type": "code",
     "collapsed": false,
     "input": [
      "print matrizA"
     ],
     "language": "python",
     "metadata": {},
     "outputs": [
      {
       "output_type": "stream",
       "stream": "stdout",
       "text": [
        "[[5, 8, 1, 2], [6, 7, 3, 0], [4, 5, 9, 1], [6, 7, 3, 0]]\n"
       ]
      }
     ],
     "prompt_number": 10
    },
    {
     "cell_type": "code",
     "collapsed": false,
     "input": [
      "def cuadrantes(array):\n",
      "    delimitador=np.shape(array)\n",
      "    delFilas=delimitador[0]/2\n",
      "    delColumnas=delimitador[1]/2\n",
      "    cuadrante1=np.zeros((delFilas,delColumnas))\n",
      "    cuadrante2=np.zeros((delFilas,delColumnas))\n",
      "    cuadrante3=np.zeros((delFilas,delColumnas))\n",
      "    cuadrante4=np.zeros((delFilas,delColumnas))\n",
      "    for i in range (0,delColumnas):\n",
      "        for j in range(0,delFilas):\n",
      "            cuadrante1[i][j]=array[i][j]\n",
      "    for k in range (delColumnas, delColumnas*2):\n",
      "        for p in range(0,delFilas):\n",
      "            cuadrante2[k][p]=array[k][p]\n",
      "    for h in range (0, delColumnas):\n",
      "        for t in range(delFilas, delFilas*2):\n",
      "            cuadrante3[h][t]=array[h][t]       \n",
      "    for d in range (delColumnas, delColumnas*2):\n",
      "        for s in range(delFilas,delFilas*2):\n",
      "            cuadrante4[d][s]=array[d][s]\n",
      "                    \n",
      "    return cuadrante1, cuadrante2, cuadrante3, cuadrante4\n",
      "\n",
      "x1,x2,x3,x4=cuadrantes(matrizA)"
     ],
     "language": "python",
     "metadata": {},
     "outputs": [],
     "prompt_number": 13
    },
    {
     "cell_type": "code",
     "collapsed": false,
     "input": [
      "print x1"
     ],
     "language": "python",
     "metadata": {},
     "outputs": [],
     "prompt_number": 14
    },
    {
     "cell_type": "code",
     "collapsed": false,
     "input": [],
     "language": "python",
     "metadata": {},
     "outputs": [],
     "prompt_number": 135
    },
    {
     "cell_type": "code",
     "collapsed": false,
     "input": [],
     "language": "python",
     "metadata": {},
     "outputs": [],
     "prompt_number": 103
    },
    {
     "cell_type": "code",
     "collapsed": false,
     "input": [],
     "language": "python",
     "metadata": {},
     "outputs": [],
     "prompt_number": 86
    },
    {
     "cell_type": "code",
     "collapsed": false,
     "input": [],
     "language": "python",
     "metadata": {},
     "outputs": []
    }
   ],
   "metadata": {}
  }
 ]
}